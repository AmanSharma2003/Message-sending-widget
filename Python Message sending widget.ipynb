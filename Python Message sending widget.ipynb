{
 "cells": [
  {
   "cell_type": "markdown",
   "id": "e1ba5cb2",
   "metadata": {},
   "source": [
    "# PYTHON MIDSEM PROJECT\n",
    "## Message Sending Widget using API and Tkinter"
   ]
  },
  {
   "cell_type": "code",
   "execution_count": 2,
   "id": "4198a144",
   "metadata": {},
   "outputs": [
    {
     "name": "stdout",
     "output_type": "stream",
     "text": [
      "{'return': True, 'request_id': 'go8eam7pvsj5hdw', 'message': ['SMS sent successfully.']}\n",
      "{'return': False, 'status_code': 411, 'message': 'Invalid Numbers'}\n"
     ]
    }
   ],
   "source": [
    "import requests\n",
    "import json\n",
    "# importing tkinter to make our graphical user interface\n",
    "from tkinter import *\n",
    "from tkinter.messagebox import showinfo, showerror\n",
    "\n",
    "\n",
    "#defining a function send_sms which willl take 6 parameters and store them in a disctionary as a key value pair \n",
    "\n",
    "def send_sms(number,message):\n",
    "    \n",
    "#Entering the api's authorization key \n",
    "\n",
    "    url = ' https://www.fast2sms.com/dev/bulkV2'\n",
    "    \n",
    "#Assigning parameters\n",
    "\n",
    "    params = {\n",
    "        'authorization': '2YskWCTUB1S89wFcM5bVLndrugxvDe7O6hNtHAXKiIfEojayqZ1yIVxOFacQUKqwpdCNimWPnrsHJ2g3',\n",
    "        'sender_id':'FSTSMS',\n",
    "        'message': message,\n",
    "        'language': 'english',\n",
    "        'route': 'p',\n",
    "        'numbers': number\n",
    "\n",
    "    }\n",
    "    \n",
    "#Tracking the response sent by server ,whether it got delivered or not \n",
    "\n",
    "    response = requests.get(url, params=params)\n",
    "    dic = response.json()\n",
    "    print(dic)\n",
    "    return dic.get('return')\n",
    "                   \n",
    "#Now we are using tkinter and creating our GUI, we have created a function\n",
    "#which will decide the even 'click' and will show error code whether our message is getting delivered or not \n",
    "\n",
    "\n",
    "def btn_click():\n",
    "                   \n",
    "#variable to store the integer mobile number input and \n",
    "                   \n",
    "   num = textNumber.get()                 \n",
    "   msg = textMsg.get(\"1.0\", END)\n",
    "   r = send_sms(num, msg)\n",
    "                   \n",
    "#we have used a if-else block ,depending on 'r' if the server response is true then succesfully sent will get popped on your screen\n",
    "#Else the latter part will pop up\n",
    "                   \n",
    "   if r:\n",
    "         showinfo(\"Send Success\", \"Successfully sent\")\n",
    "   else:\n",
    "         showerror(\"Error\", \"Something went wrong..\")\n",
    "\n",
    "    # Creating GUI\n",
    "root = Tk() #This creates a root window. The root window is a main application window in our programs. \n",
    "            #It has a title bar and borders. These are provided by the window manager.\n",
    "root.title(\"Message Sender \") #Assigning title \n",
    "            #Setting up the dimensions of the widget box \n",
    "root.geometry(\"400x550\")\n",
    "            #Assigning font types ,size ,style\n",
    "font = (\"Helvetica\", 22, \"bold\")\n",
    "                   \n",
    "textNumber = Entry(root, font=font)\n",
    "textNumber.pack(fill=X, pady=20)\n",
    "textMsg = Text(root)\n",
    "textMsg.pack(fill=X)\n",
    "             #Creating the button named \"send sms\" and making it clickable \n",
    "sendBtn = Button(root, text=\"SEND SMS\", command=btn_click)\n",
    "sendBtn.pack()\n",
    "                  #creating mainloop() tells Python to run the Tkinter event loop. \n",
    "                  #This method listens for events, such as button clicks or keypresses, \n",
    "                  #and blocks any code that comes after it from running until the window it's called on is closed. \n",
    "                  #Go ahead and close the window you've created, and you'll see a new prompt displayed in the shell.\n",
    "root.mainloop()\n"
   ]
  },
  {
   "cell_type": "code",
   "execution_count": null,
   "id": "d70bf29a",
   "metadata": {},
   "outputs": [],
   "source": []
  },
  {
   "cell_type": "code",
   "execution_count": null,
   "id": "005eda8b",
   "metadata": {},
   "outputs": [],
   "source": []
  }
 ],
 "metadata": {
  "kernelspec": {
   "display_name": "Python 3 (ipykernel)",
   "language": "python",
   "name": "python3"
  },
  "language_info": {
   "codemirror_mode": {
    "name": "ipython",
    "version": 3
   },
   "file_extension": ".py",
   "mimetype": "text/x-python",
   "name": "python",
   "nbconvert_exporter": "python",
   "pygments_lexer": "ipython3",
   "version": "3.9.7"
  }
 },
 "nbformat": 4,
 "nbformat_minor": 5
}
